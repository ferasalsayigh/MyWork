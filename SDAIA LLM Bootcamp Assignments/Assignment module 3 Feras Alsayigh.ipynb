{
 "cells": [
  {
   "cell_type": "markdown",
   "metadata": {
    "id": "sxquFBDorNn2"
   },
   "source": [
    "# Handwritten Digit Classification\n",
    "\n",
    "\n",
    "For this Hands-on, we will use the popular scikit-learn library to build a basic classifier. The MNIST dataset contains images of handwritten digits, and the task is to classify each image into its corresponding digit (0 to 9)."
   ]
  },
  {
   "cell_type": "markdown",
   "metadata": {
    "id": "LFjb1WbUtzcT"
   },
   "source": [
    "## Import Libraries"
   ]
  },
  {
   "cell_type": "code",
   "execution_count": 142,
   "metadata": {
    "id": "vZuJJeZBt1NX"
   },
   "outputs": [],
   "source": [
    "# Import required libraries\n",
    "import numpy as np\n",
    "import matplotlib.pyplot as plt\n",
    "from keras.datasets import mnist\n",
    "from keras.models import Sequential\n",
    "from keras.layers import Conv2D, MaxPooling2D, Flatten, Dense\n",
    "from keras.utils import to_categorical\n",
    "from sklearn.model_selection import train_test_split"
   ]
  },
  {
   "cell_type": "markdown",
   "metadata": {
    "id": "izR8JS-irUfe"
   },
   "source": [
    "## Load the Dataset"
   ]
  },
  {
   "cell_type": "markdown",
   "metadata": {
    "id": "ksDVyrnEaqY9"
   },
   "source": [
    "**Question 1:** Load the train and test subsets of the mnist dataset from Keras"
   ]
  },
  {
   "cell_type": "code",
   "execution_count": 143,
   "metadata": {
    "id": "tPZGpMact7Hh"
   },
   "outputs": [],
   "source": [
    "import tensorflow as tf\n",
    "\n",
    "# Load the MNIST dataset\n",
    "(X_train, y_train), (X_test, y_test) = tf.keras.datasets.mnist.load_data()"
   ]
  },
  {
   "cell_type": "markdown",
   "metadata": {
    "id": "1hRAaUS5uBa5"
   },
   "source": [
    "## Data Pre-Processing"
   ]
  },
  {
   "cell_type": "markdown",
   "metadata": {
    "id": "pk-ekR4Wa1AD"
   },
   "source": [
    "**Question 2:**  \n",
    "\n",
    "*   Adjust the input shape to match the one the model is expecting\n",
    "*   Normalize the values of the pixels\n",
    "*   Turn labels into categories using the to_categorical function"
   ]
  },
  {
   "cell_type": "code",
   "execution_count": 144,
   "metadata": {
    "id": "6PlFzdt2uAOc"
   },
   "outputs": [],
   "source": [
    "# Preprocess the data\n",
    "input_shape = (28,28, 1)\n",
    "X_train, X_test = X_train/255.0, X_test/255.0,\n",
    "\n",
    "y_train = to_categorical(y_train)\n",
    "y_test = to_categorical(y_test)\n"
   ]
  },
  {
   "cell_type": "markdown",
   "metadata": {
    "id": "C2P2NYGAu3uf"
   },
   "source": [
    "## Build and train a CNN"
   ]
  },
  {
   "cell_type": "markdown",
   "metadata": {
    "id": "gBh_E3p8yQJd"
   },
   "source": [
    "**Question 3:** Create a Convolutional neural Network of your choice and be carefyl while you select the following:\n",
    "\n",
    "\n",
    "*   input shape\n",
    "*   activation function at the output layer\n",
    "*   number of output neurons\n",
    "\n"
   ]
  },
  {
   "cell_type": "code",
   "execution_count": 145,
   "metadata": {
    "id": "cSKyObX3u6b5"
   },
   "outputs": [],
   "source": [
    "\n",
    "import matplotlib.pyplot as plt\n",
    "\n",
    "from keras.models import Sequential\n",
    "from keras.layers import Conv2D, MaxPooling2D, Flatten, Dense\n",
    "\n",
    "\n",
    "\n",
    "# Build the CNN model\n",
    "model = Sequential()\n",
    "model.add(Conv2D(28, (3, 3), activation='relu', input_shape=input_shape))\n",
    "model.add(MaxPooling2D((2, 2)))\n",
    "model.add(Conv2D(56, (3, 3), activation='relu'))\n",
    "model.add(MaxPooling2D((2, 2)))\n",
    "model.add(Conv2D(112, (3, 3), activation='relu'))\n",
    "model.add(MaxPooling2D((2, 2)))\n",
    "model.add(Flatten())\n",
    "model.add(Dense(112, activation='relu'))\n",
    "model.add(Dense(10, activation='softmax'))"
   ]
  },
  {
   "cell_type": "markdown",
   "metadata": {
    "id": "Z37o5R4zyrRB"
   },
   "source": [
    "**Question 4:** Compile and train the model. Choose an appropriate loss function, optimizer, and print out the accuracy of the model."
   ]
  },
  {
   "cell_type": "code",
   "execution_count": 146,
   "metadata": {
    "id": "EsBT-jSlyo35"
   },
   "outputs": [
    {
     "name": "stdout",
     "output_type": "stream",
     "text": [
      "Epoch 1/10\n",
      "2143/2143 [==============================] - 24s 10ms/step - loss: 0.1870 - accuracy: 0.9423 - val_loss: 0.0695 - val_accuracy: 0.9790\n",
      "Epoch 2/10\n",
      "2143/2143 [==============================] - 23s 11ms/step - loss: 0.0670 - accuracy: 0.9791 - val_loss: 0.0643 - val_accuracy: 0.9807\n",
      "Epoch 3/10\n",
      "2143/2143 [==============================] - 26s 12ms/step - loss: 0.0477 - accuracy: 0.9849 - val_loss: 0.0447 - val_accuracy: 0.9867\n",
      "Epoch 4/10\n",
      "2143/2143 [==============================] - 24s 11ms/step - loss: 0.0364 - accuracy: 0.9883 - val_loss: 0.0442 - val_accuracy: 0.9872\n",
      "Epoch 5/10\n",
      "2143/2143 [==============================] - 20s 9ms/step - loss: 0.0298 - accuracy: 0.9903 - val_loss: 0.0454 - val_accuracy: 0.9866\n",
      "Epoch 6/10\n",
      "2143/2143 [==============================] - 17s 8ms/step - loss: 0.0226 - accuracy: 0.9930 - val_loss: 0.0554 - val_accuracy: 0.9851\n",
      "Epoch 7/10\n",
      "2143/2143 [==============================] - 19s 9ms/step - loss: 0.0199 - accuracy: 0.9936 - val_loss: 0.0585 - val_accuracy: 0.9855\n",
      "Epoch 8/10\n",
      "2143/2143 [==============================] - 33s 16ms/step - loss: 0.0179 - accuracy: 0.9939 - val_loss: 0.0577 - val_accuracy: 0.9859\n",
      "Epoch 9/10\n",
      "2143/2143 [==============================] - 19s 9ms/step - loss: 0.0140 - accuracy: 0.9954 - val_loss: 0.0600 - val_accuracy: 0.9854\n",
      "Epoch 10/10\n",
      "2143/2143 [==============================] - 16s 7ms/step - loss: 0.0126 - accuracy: 0.9956 - val_loss: 0.0485 - val_accuracy: 0.9882\n"
     ]
    }
   ],
   "source": [
    "# Compile the model\n",
    "model.compile(optimizer = 'adam', loss='categorical_crossentropy', metrics=['accuracy'])\n",
    "\n",
    "# Train the model\n",
    "history = model.fit(X_train, y_train, epochs=10, batch_size=28, validation_data=(X_test, y_test))\n"
   ]
  },
  {
   "cell_type": "markdown",
   "metadata": {
    "id": "LaYsKjVSu9KF"
   },
   "source": [
    "## Evaluate the Model's performance"
   ]
  },
  {
   "cell_type": "markdown",
   "metadata": {
    "id": "57_7ykVky_j_"
   },
   "source": [
    "**Question 5:** Plot the training and validation accuracy to better understand the performance of the model."
   ]
  },
  {
   "cell_type": "code",
   "execution_count": 147,
   "metadata": {
    "id": "-KqzKudQu8rv"
   },
   "outputs": [
    {
     "name": "stdout",
     "output_type": "stream",
     "text": [
      "313/313 [==============================] - 1s 3ms/step - loss: 0.0485 - accuracy: 0.9882\n",
      "Test Accuracy: 0.9882000088691711\n"
     ]
    },
    {
     "data": {
      "image/png": "[encoded data removed]",
      "text/plain": [
       "<Figure size 640x480 with 1 Axes>"
      ]
     },
     "metadata": {},
     "output_type": "display_data"
    }
   ],
   "source": [
    "# Evaluate the model on the test set\n",
    "test_loss, test_accuracy = model.evaluate(X_test, y_test)\n",
    "print(\"Test Accuracy:\", test_accuracy)\n",
    "\n",
    "# Plot the training and validation accuracy over epochs\n",
    "plt.plot(history.history['accuracy'], label='Training Accuracy')\n",
    "plt.plot(history.history['val_accuracy'], label='Validation Accuracy')\n",
    "\n",
    "\n",
    "plt.xlabel('Epoch')\n",
    "plt.ylabel('Accuracy')\n",
    "plt.legend()\n",
    "plt.show()"
   ]
  },
  {
   "cell_type": "code",
   "execution_count": 148,
   "metadata": {},
   "outputs": [],
   "source": [
    "# Feras Abdullah A. Alsayigh Assignment 3 Module 3 "
   ]
  }
 ],
 "metadata": {
  "colab": {
   "authorship_tag": "ABX9TyMwFG0jmmHM4o26vuWVAgHM",
   "provenance": [],
   "toc_visible": true
  },
  "kernelspec": {
   "display_name": "Python 3 (ipykernel)",
   "language": "python",
   "name": "python3"
  },
  "language_info": {
   "codemirror_mode": {
    "name": "ipython",
    "version": 3
   },
   "file_extension": ".py",
   "mimetype": "text/x-python",
   "name": "python",
   "nbconvert_exporter": "python",
   "pygments_lexer": "ipython3",
   "version": "3.11.2"
  }
 },
 "nbformat": 4,
 "nbformat_minor": 4
}
