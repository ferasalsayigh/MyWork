{
 "cells": [
  {
   "cell_type": "markdown",
   "metadata": {
    "id": "0g2RQRSltgja"
   },
   "source": [
    "# Full DL Solution\n",
    "---\n",
    "### **Case Study:** Stroke Prediction\n",
    "\n",
    "**Objective:** The goal of this project is to walk you through a case study where you can apply the deep learning concepts that you learned about during the week. By the end of this project, you would have developed a solution that predicts if a person will have a stroke or not.\n"
   ]
  },
  {
   "cell_type": "markdown",
   "metadata": {
    "id": "SSCD88NxJjFo"
   },
   "source": [
    "**Dataset Explanation:** We will be using the stroke dataset. Its features are:\n",
    "\n",
    "\n",
    "* **id:** unique identifier\n",
    "* **gender:** \"Male\", \"Female\" or \"Other\"\n",
    "* **age:** age of the patient\n",
    "* **hypertension:** 0 if the patient doesn't have hypertension, 1 if the patient has hypertension\n",
    "* **heart_disease:** 0 if the patient doesn't have any heart diseases, 1 if the patient has a heart disease\n",
    "* **ever_married:** \"No\" or \"Yes\"\n",
    "* **work_type:** \"children\", \"Govt_jov\", \"Never_worked\", \"Private\" or \"Self-employed\"\n",
    "* **Residence_type:** \"Rural\" or \"Urban\"\n",
    "* **avg_glucose_level:** average glucose level in blood\n",
    "* **bmi:** body mass index\n",
    "* **smoking_status:** \"formerly smoked\", \"never smoked\", \"smokes\" or \"Unknown\"*\n",
    "* **stroke:** 1 if the patient had a stroke or 0 if not"
   ]
  },
  {
   "cell_type": "markdown",
   "metadata": {
    "id": "gBvX5nCYt8cT"
   },
   "source": [
    "# Importing Libraries"
   ]
  },
  {
   "cell_type": "markdown",
   "metadata": {
    "id": "JaPfsfvXK2_0"
   },
   "source": [
    "We start by importing the libraries"
   ]
  },
  {
   "cell_type": "code",
   "execution_count": 1,
   "metadata": {
    "id": "oK92M0m-ezbE"
   },
   "outputs": [],
   "source": [
    "import warnings\n",
    "warnings.filterwarnings('ignore')"
   ]
  },
  {
   "cell_type": "code",
   "execution_count": 2,
   "metadata": {
    "id": "mMQuUG7OtfrG"
   },
   "outputs": [],
   "source": [
    "import numpy as np\n",
    "import pandas as pd\n",
    "import matplotlib.pyplot as plt"
   ]
  },
  {
   "cell_type": "markdown",
   "metadata": {
    "id": "0-RxAH5auFFy"
   },
   "source": [
    "# Loading the Dataset"
   ]
  },
  {
   "cell_type": "markdown",
   "metadata": {
    "id": "z_jj2t6zK6zy"
   },
   "source": [
    "We load the dataset from a csv file, and see its first rows"
   ]
  },
  {
   "cell_type": "code",
   "execution_count": 4,
   "metadata": {
    "id": "UQVo1CAJt7s8"
   },
   "outputs": [
    {
     "data": {
      "text/html": [
       "<div>\n",
       "<style scoped>\n",
       "    .dataframe tbody tr th:only-of-type {\n",
       "        vertical-align: middle;\n",
       "    }\n",
       "\n",
       "    .dataframe tbody tr th {\n",
       "        vertical-align: top;\n",
       "    }\n",
       "\n",
       "    .dataframe thead th {\n",
       "        text-align: right;\n",
       "    }\n",
       "</style>\n",
       "<table border=\"1\" class=\"dataframe\">\n",
       "  <thead>\n",
       "    <tr style=\"text-align: right;\">\n",
       "      <th></th>\n",
       "      <th>id</th>\n",
       "      <th>gender</th>\n",
       "      <th>age</th>\n",
       "      <th>hypertension</th>\n",
       "      <th>heart_disease</th>\n",
       "      <th>ever_married</th>\n",
       "      <th>work_type</th>\n",
       "      <th>Residence_type</th>\n",
       "      <th>avg_glucose_level</th>\n",
       "      <th>bmi</th>\n",
       "      <th>smoking_status</th>\n",
       "      <th>stroke</th>\n",
       "    </tr>\n",
       "  </thead>\n",
       "  <tbody>\n",
       "    <tr>\n",
       "      <th>0</th>\n",
       "      <td>9046</td>\n",
       "      <td>Male</td>\n",
       "      <td>67.0</td>\n",
       "      <td>0</td>\n",
       "      <td>1</td>\n",
       "      <td>Yes</td>\n",
       "      <td>Private</td>\n",
       "      <td>Urban</td>\n",
       "      <td>228.69</td>\n",
       "      <td>36.6</td>\n",
       "      <td>formerly smoked</td>\n",
       "      <td>1</td>\n",
       "    </tr>\n",
       "    <tr>\n",
       "      <th>1</th>\n",
       "      <td>51676</td>\n",
       "      <td>Female</td>\n",
       "      <td>61.0</td>\n",
       "      <td>0</td>\n",
       "      <td>0</td>\n",
       "      <td>Yes</td>\n",
       "      <td>Self-employed</td>\n",
       "      <td>Rural</td>\n",
       "      <td>202.21</td>\n",
       "      <td>NaN</td>\n",
       "      <td>never smoked</td>\n",
       "      <td>1</td>\n",
       "    </tr>\n",
       "    <tr>\n",
       "      <th>2</th>\n",
       "      <td>31112</td>\n",
       "      <td>Male</td>\n",
       "      <td>80.0</td>\n",
       "      <td>0</td>\n",
       "      <td>1</td>\n",
       "      <td>Yes</td>\n",
       "      <td>Private</td>\n",
       "      <td>Rural</td>\n",
       "      <td>105.92</td>\n",
       "      <td>32.5</td>\n",
       "      <td>never smoked</td>\n",
       "      <td>1</td>\n",
       "    </tr>\n",
       "    <tr>\n",
       "      <th>3</th>\n",
       "      <td>60182</td>\n",
       "      <td>Female</td>\n",
       "      <td>49.0</td>\n",
       "      <td>0</td>\n",
       "      <td>0</td>\n",
       "      <td>Yes</td>\n",
       "      <td>Private</td>\n",
       "      <td>Urban</td>\n",
       "      <td>171.23</td>\n",
       "      <td>34.4</td>\n",
       "      <td>smokes</td>\n",
       "      <td>1</td>\n",
       "    </tr>\n",
       "    <tr>\n",
       "      <th>4</th>\n",
       "      <td>1665</td>\n",
       "      <td>Female</td>\n",
       "      <td>79.0</td>\n",
       "      <td>1</td>\n",
       "      <td>0</td>\n",
       "      <td>Yes</td>\n",
       "      <td>Self-employed</td>\n",
       "      <td>Rural</td>\n",
       "      <td>174.12</td>\n",
       "      <td>24.0</td>\n",
       "      <td>never smoked</td>\n",
       "      <td>1</td>\n",
       "    </tr>\n",
       "  </tbody>\n",
       "</table>\n",
       "</div>"
      ],
      "text/plain": [
       "      id  gender   age  hypertension  heart_disease ever_married  \\\n",
       "0   9046    Male  67.0             0              1          Yes   \n",
       "1  51676  Female  61.0             0              0          Yes   \n",
       "2  31112    Male  80.0             0              1          Yes   \n",
       "3  60182  Female  49.0             0              0          Yes   \n",
       "4   1665  Female  79.0             1              0          Yes   \n",
       "\n",
       "       work_type Residence_type  avg_glucose_level   bmi   smoking_status  \\\n",
       "0        Private          Urban             228.69  36.6  formerly smoked   \n",
       "1  Self-employed          Rural             202.21   NaN     never smoked   \n",
       "2        Private          Rural             105.92  32.5     never smoked   \n",
       "3        Private          Urban             171.23  34.4           smokes   \n",
       "4  Self-employed          Rural             174.12  24.0     never smoked   \n",
       "\n",
       "   stroke  \n",
       "0       1  \n",
       "1       1  \n",
       "2       1  \n",
       "3       1  \n",
       "4       1  "
      ]
     },
     "execution_count": 4,
     "metadata": {},
     "output_type": "execute_result"
    }
   ],
   "source": [
    "path = 'healthcare-dataset-stroke-data.csv'\n",
    "data = pd.read_csv(path)\n",
    "data.head()"
   ]
  },
  {
   "cell_type": "markdown",
   "metadata": {
    "id": "r6gAyBGtubI7"
   },
   "source": [
    "# Exploratory Data Analysis"
   ]
  },
  {
   "cell_type": "markdown",
   "metadata": {
    "id": "XZ_93CvuLF3j"
   },
   "source": [
    "Now we start the exploratory data analysis."
   ]
  },
  {
   "cell_type": "markdown",
   "metadata": {
    "id": "2925yVCdud0a"
   },
   "source": [
    "### Shape of the data"
   ]
  },
  {
   "cell_type": "markdown",
   "metadata": {
    "id": "yZ0hWvVALJy4"
   },
   "source": [
    "First thing we need to know the shape of our data\n",
    "\n",
    "**Question 1:** How many examples and features do we have?"
   ]
  },
  {
   "cell_type": "code",
   "execution_count": 5,
   "metadata": {
    "id": "8pvWR3PKuQEy"
   },
   "outputs": [
    {
     "name": "stdout",
     "output_type": "stream",
     "text": [
      "5110 12\n"
     ]
    }
   ],
   "source": [
    "nrow , ncol = data.shape\n",
    "print(nrow, ncol)"
   ]
  },
  {
   "cell_type": "markdown",
   "metadata": {
    "id": "yUy4oI5xukRr"
   },
   "source": [
    "### Types of different Columns"
   ]
  },
  {
   "cell_type": "markdown",
   "metadata": {
    "id": "G1q10ievLTTs"
   },
   "source": [
    "**Question 2:** Check the type of each feature."
   ]
  },
  {
   "cell_type": "code",
   "execution_count": 6,
   "metadata": {
    "id": "_8snoohouhUP"
   },
   "outputs": [
    {
     "data": {
      "text/plain": [
       "id                     int64\n",
       "gender                object\n",
       "age                  float64\n",
       "hypertension           int64\n",
       "heart_disease          int64\n",
       "ever_married          object\n",
       "work_type             object\n",
       "Residence_type        object\n",
       "avg_glucose_level    float64\n",
       "bmi                  float64\n",
       "smoking_status        object\n",
       "stroke                 int64\n",
       "dtype: object"
      ]
     },
     "execution_count": 6,
     "metadata": {},
     "output_type": "execute_result"
    }
   ],
   "source": [
    "data.dtypes"
   ]
  },
  {
   "cell_type": "markdown",
   "metadata": {
    "id": "nkrEh6RYygms"
   },
   "source": [
    "### Dealing with categorical variables"
   ]
  },
  {
   "cell_type": "markdown",
   "metadata": {
    "id": "v_kBYl7ItLGt"
   },
   "source": [
    "**Question 3:** Use the .value_counts() functions to walk through the categorical variables that we have to see the categories and the counts of each of them."
   ]
  },
  {
   "cell_type": "code",
   "execution_count": 7,
   "metadata": {
    "id": "DlSfSQ35ykgc"
   },
   "outputs": [
    {
     "data": {
      "text/plain": [
       "smoking_status\n",
       "never smoked       1892\n",
       "Unknown            1544\n",
       "formerly smoked     885\n",
       "smokes              789\n",
       "Name: count, dtype: int64"
      ]
     },
     "execution_count": 7,
     "metadata": {},
     "output_type": "execute_result"
    }
   ],
   "source": [
    "smoking_types = data['smoking_status'].value_counts()\n",
    "smoking_types"
   ]
  },
  {
   "cell_type": "code",
   "execution_count": 8,
   "metadata": {
    "id": "Yg0xlLNUy7AF"
   },
   "outputs": [
    {
     "data": {
      "text/plain": [
       "Residence_type\n",
       "Urban    2596\n",
       "Rural    2514\n",
       "Name: count, dtype: int64"
      ]
     },
     "execution_count": 8,
     "metadata": {},
     "output_type": "execute_result"
    }
   ],
   "source": [
    "residence_types = data['Residence_type'].value_counts()\n",
    "residence_types"
   ]
  },
  {
   "cell_type": "code",
   "execution_count": 9,
   "metadata": {
    "id": "T72r_mkrzF9V"
   },
   "outputs": [
    {
     "data": {
      "text/plain": [
       "work_type\n",
       "Private          2925\n",
       "Self-employed     819\n",
       "children          687\n",
       "Govt_job          657\n",
       "Never_worked       22\n",
       "Name: count, dtype: int64"
      ]
     },
     "execution_count": 9,
     "metadata": {},
     "output_type": "execute_result"
    }
   ],
   "source": [
    "work_types = data['work_type'].value_counts()\n",
    "work_types"
   ]
  },
  {
   "cell_type": "code",
   "execution_count": 10,
   "metadata": {
    "id": "Z0kpR57LzQE9"
   },
   "outputs": [
    {
     "data": {
      "text/plain": [
       "ever_married\n",
       "Yes    3353\n",
       "No     1757\n",
       "Name: count, dtype: int64"
      ]
     },
     "execution_count": 10,
     "metadata": {},
     "output_type": "execute_result"
    }
   ],
   "source": [
    "married_types = data['ever_married'].value_counts()\n",
    "married_types"
   ]
  },
  {
   "cell_type": "code",
   "execution_count": 11,
   "metadata": {
    "id": "fQIoAs8y3igG"
   },
   "outputs": [
    {
     "data": {
      "text/plain": [
       "hypertension\n",
       "0    4612\n",
       "1     498\n",
       "Name: count, dtype: int64"
      ]
     },
     "execution_count": 11,
     "metadata": {},
     "output_type": "execute_result"
    }
   ],
   "source": [
    "hypertension = data['hypertension'].value_counts()\n",
    "hypertension"
   ]
  },
  {
   "cell_type": "code",
   "execution_count": 12,
   "metadata": {
    "id": "xEhNH46j3p3Y"
   },
   "outputs": [
    {
     "data": {
      "text/plain": [
       "heart_disease\n",
       "0    4834\n",
       "1     276\n",
       "Name: count, dtype: int64"
      ]
     },
     "execution_count": 12,
     "metadata": {},
     "output_type": "execute_result"
    }
   ],
   "source": [
    "heart_disease= data['heart_disease'].value_counts()\n",
    "heart_disease"
   ]
  },
  {
   "cell_type": "code",
   "execution_count": 13,
   "metadata": {
    "id": "8cI7uJvA3Njv"
   },
   "outputs": [
    {
     "data": {
      "text/plain": [
       "stroke\n",
       "0    4861\n",
       "1     249\n",
       "Name: count, dtype: int64"
      ]
     },
     "execution_count": 13,
     "metadata": {},
     "output_type": "execute_result"
    }
   ],
   "source": [
    "stroke= data['stroke'].value_counts()\n",
    "stroke"
   ]
  },
  {
   "cell_type": "markdown",
   "metadata": {
    "id": "_jFIiKPvllld"
   },
   "source": [
    "# Preprocessing"
   ]
  },
  {
   "cell_type": "markdown",
   "metadata": {
    "id": "JsQQj-wVlkjS"
   },
   "source": [
    "### Dealing with Nulls"
   ]
  },
  {
   "cell_type": "markdown",
   "metadata": {
    "id": "wdlRc672lgI4"
   },
   "source": [
    "**Question 4:** The bmi column contains nulls. Fill it with the appropriate measure."
   ]
  },
  {
   "cell_type": "code",
   "execution_count": 14,
   "metadata": {
    "id": "7UDrnGK6lYiE"
   },
   "outputs": [],
   "source": [
    "data['bmi'].fillna( data['bmi'].mean() , inplace=True)"
   ]
  },
  {
   "cell_type": "markdown",
   "metadata": {
    "id": "21da4C_Bzd-u"
   },
   "source": [
    "#### Encoding Categorical Features"
   ]
  },
  {
   "cell_type": "markdown",
   "metadata": {
    "id": "UaNk4gWCLqe4"
   },
   "source": [
    "**Question 5:** Here you have to encode those categorical variables to be able to use them to train your DL model."
   ]
  },
  {
   "cell_type": "code",
   "execution_count": 15,
   "metadata": {
    "id": "6nJtOvxdzi_G"
   },
   "outputs": [],
   "source": [
    "from sklearn import preprocessing\n",
    "\n",
    "encoder = preprocessing.LabelEncoder()\n",
    "\n",
    "encoder.fit(data['smoking_status'])\n",
    "data['smoking_status'] = encoder.transform(data['smoking_status'])\n",
    "\n",
    "encoder.fit(data['Residence_type'])\n",
    "data['Residence_type'] = encoder.transform(data['Residence_type'])\n",
    "\n",
    "encoder.fit(data['work_type'])\n",
    "data['work_type'] = encoder.transform(data['work_type'])\n",
    "\n",
    "encoder.fit(data['ever_married'])\n",
    "data['ever_married'] = encoder.transform(data['ever_married'])\n",
    "encoder.fit(data['gender'])\n",
    "data['gender'] = encoder.transform(data['gender'])\n"
   ]
  },
  {
   "cell_type": "markdown",
   "metadata": {
    "id": "d1GOfAgt4M-Q"
   },
   "source": [
    "### Normalizing Features"
   ]
  },
  {
   "cell_type": "markdown",
   "metadata": {
    "id": "EPpkMCXELwty"
   },
   "source": [
    "**Question 6:** Normalize the input data"
   ]
  },
  {
   "cell_type": "code",
   "execution_count": 16,
   "metadata": {
    "id": "BtI_XA-m33Bx"
   },
   "outputs": [
    {
     "data": {
      "text/html": [
       "<div>\n",
       "<style scoped>\n",
       "    .dataframe tbody tr th:only-of-type {\n",
       "        vertical-align: middle;\n",
       "    }\n",
       "\n",
       "    .dataframe tbody tr th {\n",
       "        vertical-align: top;\n",
       "    }\n",
       "\n",
       "    .dataframe thead th {\n",
       "        text-align: right;\n",
       "    }\n",
       "</style>\n",
       "<table border=\"1\" class=\"dataframe\">\n",
       "  <thead>\n",
       "    <tr style=\"text-align: right;\">\n",
       "      <th></th>\n",
       "      <th>id</th>\n",
       "      <th>gender</th>\n",
       "      <th>age</th>\n",
       "      <th>hypertension</th>\n",
       "      <th>heart_disease</th>\n",
       "      <th>ever_married</th>\n",
       "      <th>work_type</th>\n",
       "      <th>Residence_type</th>\n",
       "      <th>avg_glucose_level</th>\n",
       "      <th>bmi</th>\n",
       "      <th>smoking_status</th>\n",
       "      <th>stroke</th>\n",
       "    </tr>\n",
       "  </thead>\n",
       "  <tbody>\n",
       "    <tr>\n",
       "      <th>count</th>\n",
       "      <td>5110.000000</td>\n",
       "      <td>5110.000000</td>\n",
       "      <td>5110.000000</td>\n",
       "      <td>5110.000000</td>\n",
       "      <td>5110.000000</td>\n",
       "      <td>5110.000000</td>\n",
       "      <td>5110.000000</td>\n",
       "      <td>5110.000000</td>\n",
       "      <td>5110.000000</td>\n",
       "      <td>5110.000000</td>\n",
       "      <td>5110.000000</td>\n",
       "      <td>5110.000000</td>\n",
       "    </tr>\n",
       "    <tr>\n",
       "      <th>mean</th>\n",
       "      <td>0.500197</td>\n",
       "      <td>0.207143</td>\n",
       "      <td>0.526692</td>\n",
       "      <td>0.097456</td>\n",
       "      <td>0.054012</td>\n",
       "      <td>0.656164</td>\n",
       "      <td>0.541928</td>\n",
       "      <td>0.508023</td>\n",
       "      <td>0.235563</td>\n",
       "      <td>0.212981</td>\n",
       "      <td>0.458969</td>\n",
       "      <td>0.048728</td>\n",
       "    </tr>\n",
       "    <tr>\n",
       "      <th>std</th>\n",
       "      <td>0.290392</td>\n",
       "      <td>0.246522</td>\n",
       "      <td>0.276033</td>\n",
       "      <td>0.296607</td>\n",
       "      <td>0.226063</td>\n",
       "      <td>0.475034</td>\n",
       "      <td>0.272573</td>\n",
       "      <td>0.499985</td>\n",
       "      <td>0.209046</td>\n",
       "      <td>0.088179</td>\n",
       "      <td>0.357178</td>\n",
       "      <td>0.215320</td>\n",
       "    </tr>\n",
       "    <tr>\n",
       "      <th>min</th>\n",
       "      <td>0.000000</td>\n",
       "      <td>0.000000</td>\n",
       "      <td>0.000000</td>\n",
       "      <td>0.000000</td>\n",
       "      <td>0.000000</td>\n",
       "      <td>0.000000</td>\n",
       "      <td>0.000000</td>\n",
       "      <td>0.000000</td>\n",
       "      <td>0.000000</td>\n",
       "      <td>0.000000</td>\n",
       "      <td>0.000000</td>\n",
       "      <td>0.000000</td>\n",
       "    </tr>\n",
       "    <tr>\n",
       "      <th>25%</th>\n",
       "      <td>0.242535</td>\n",
       "      <td>0.000000</td>\n",
       "      <td>0.304199</td>\n",
       "      <td>0.000000</td>\n",
       "      <td>0.000000</td>\n",
       "      <td>0.000000</td>\n",
       "      <td>0.500000</td>\n",
       "      <td>0.000000</td>\n",
       "      <td>0.102137</td>\n",
       "      <td>0.154639</td>\n",
       "      <td>0.000000</td>\n",
       "      <td>0.000000</td>\n",
       "    </tr>\n",
       "    <tr>\n",
       "      <th>50%</th>\n",
       "      <td>0.505880</td>\n",
       "      <td>0.000000</td>\n",
       "      <td>0.548340</td>\n",
       "      <td>0.000000</td>\n",
       "      <td>0.000000</td>\n",
       "      <td>1.000000</td>\n",
       "      <td>0.500000</td>\n",
       "      <td>1.000000</td>\n",
       "      <td>0.169721</td>\n",
       "      <td>0.207331</td>\n",
       "      <td>0.666667</td>\n",
       "      <td>0.000000</td>\n",
       "    </tr>\n",
       "    <tr>\n",
       "      <th>75%</th>\n",
       "      <td>0.749455</td>\n",
       "      <td>0.500000</td>\n",
       "      <td>0.743652</td>\n",
       "      <td>0.000000</td>\n",
       "      <td>0.000000</td>\n",
       "      <td>1.000000</td>\n",
       "      <td>0.750000</td>\n",
       "      <td>1.000000</td>\n",
       "      <td>0.272228</td>\n",
       "      <td>0.257732</td>\n",
       "      <td>0.666667</td>\n",
       "      <td>0.000000</td>\n",
       "    </tr>\n",
       "    <tr>\n",
       "      <th>max</th>\n",
       "      <td>1.000000</td>\n",
       "      <td>1.000000</td>\n",
       "      <td>1.000000</td>\n",
       "      <td>1.000000</td>\n",
       "      <td>1.000000</td>\n",
       "      <td>1.000000</td>\n",
       "      <td>1.000000</td>\n",
       "      <td>1.000000</td>\n",
       "      <td>1.000000</td>\n",
       "      <td>1.000000</td>\n",
       "      <td>1.000000</td>\n",
       "      <td>1.000000</td>\n",
       "    </tr>\n",
       "  </tbody>\n",
       "</table>\n",
       "</div>"
      ],
      "text/plain": [
       "                id       gender          age  hypertension  heart_disease  \\\n",
       "count  5110.000000  5110.000000  5110.000000   5110.000000    5110.000000   \n",
       "mean      0.500197     0.207143     0.526692      0.097456       0.054012   \n",
       "std       0.290392     0.246522     0.276033      0.296607       0.226063   \n",
       "min       0.000000     0.000000     0.000000      0.000000       0.000000   \n",
       "25%       0.242535     0.000000     0.304199      0.000000       0.000000   \n",
       "50%       0.505880     0.000000     0.548340      0.000000       0.000000   \n",
       "75%       0.749455     0.500000     0.743652      0.000000       0.000000   \n",
       "max       1.000000     1.000000     1.000000      1.000000       1.000000   \n",
       "\n",
       "       ever_married    work_type  Residence_type  avg_glucose_level  \\\n",
       "count   5110.000000  5110.000000     5110.000000        5110.000000   \n",
       "mean       0.656164     0.541928        0.508023           0.235563   \n",
       "std        0.475034     0.272573        0.499985           0.209046   \n",
       "min        0.000000     0.000000        0.000000           0.000000   \n",
       "25%        0.000000     0.500000        0.000000           0.102137   \n",
       "50%        1.000000     0.500000        1.000000           0.169721   \n",
       "75%        1.000000     0.750000        1.000000           0.272228   \n",
       "max        1.000000     1.000000        1.000000           1.000000   \n",
       "\n",
       "               bmi  smoking_status       stroke  \n",
       "count  5110.000000     5110.000000  5110.000000  \n",
       "mean      0.212981        0.458969     0.048728  \n",
       "std       0.088179        0.357178     0.215320  \n",
       "min       0.000000        0.000000     0.000000  \n",
       "25%       0.154639        0.000000     0.000000  \n",
       "50%       0.207331        0.666667     0.000000  \n",
       "75%       0.257732        0.666667     0.000000  \n",
       "max       1.000000        1.000000     1.000000  "
      ]
     },
     "execution_count": 16,
     "metadata": {},
     "output_type": "execute_result"
    }
   ],
   "source": [
    "from sklearn.preprocessing import MinMaxScaler\n",
    "scaler = MinMaxScaler()\n",
    "scaled = scaler.fit_transform(data)\n",
    "data = pd.DataFrame(scaled, columns=data.columns)\n",
    "data.describe()"
   ]
  },
  {
   "cell_type": "markdown",
   "metadata": {
    "id": "KICuY0lg5nUD"
   },
   "source": [
    "### Removing Unnecessary Features"
   ]
  },
  {
   "cell_type": "markdown",
   "metadata": {
    "id": "ua71U2YxL5Ls"
   },
   "source": [
    "**Question 7:** From the features that you have, remove the feature(s) that is(are) irrelevant to your predictions."
   ]
  },
  {
   "cell_type": "code",
   "execution_count": 17,
   "metadata": {
    "id": "8AHNqYbh5sE7"
   },
   "outputs": [
    {
     "data": {
      "text/html": [
       "<div>\n",
       "<style scoped>\n",
       "    .dataframe tbody tr th:only-of-type {\n",
       "        vertical-align: middle;\n",
       "    }\n",
       "\n",
       "    .dataframe tbody tr th {\n",
       "        vertical-align: top;\n",
       "    }\n",
       "\n",
       "    .dataframe thead th {\n",
       "        text-align: right;\n",
       "    }\n",
       "</style>\n",
       "<table border=\"1\" class=\"dataframe\">\n",
       "  <thead>\n",
       "    <tr style=\"text-align: right;\">\n",
       "      <th></th>\n",
       "      <th>gender</th>\n",
       "      <th>age</th>\n",
       "      <th>hypertension</th>\n",
       "      <th>heart_disease</th>\n",
       "      <th>avg_glucose_level</th>\n",
       "      <th>bmi</th>\n",
       "      <th>smoking_status</th>\n",
       "      <th>stroke</th>\n",
       "    </tr>\n",
       "  </thead>\n",
       "  <tbody>\n",
       "    <tr>\n",
       "      <th>0</th>\n",
       "      <td>0.5</td>\n",
       "      <td>0.816895</td>\n",
       "      <td>0.0</td>\n",
       "      <td>1.0</td>\n",
       "      <td>0.801265</td>\n",
       "      <td>0.301260</td>\n",
       "      <td>0.333333</td>\n",
       "      <td>1.0</td>\n",
       "    </tr>\n",
       "    <tr>\n",
       "      <th>1</th>\n",
       "      <td>0.0</td>\n",
       "      <td>0.743652</td>\n",
       "      <td>0.0</td>\n",
       "      <td>0.0</td>\n",
       "      <td>0.679023</td>\n",
       "      <td>0.212981</td>\n",
       "      <td>0.666667</td>\n",
       "      <td>1.0</td>\n",
       "    </tr>\n",
       "    <tr>\n",
       "      <th>2</th>\n",
       "      <td>0.5</td>\n",
       "      <td>0.975586</td>\n",
       "      <td>0.0</td>\n",
       "      <td>1.0</td>\n",
       "      <td>0.234512</td>\n",
       "      <td>0.254296</td>\n",
       "      <td>0.666667</td>\n",
       "      <td>1.0</td>\n",
       "    </tr>\n",
       "    <tr>\n",
       "      <th>3</th>\n",
       "      <td>0.0</td>\n",
       "      <td>0.597168</td>\n",
       "      <td>0.0</td>\n",
       "      <td>0.0</td>\n",
       "      <td>0.536008</td>\n",
       "      <td>0.276060</td>\n",
       "      <td>1.000000</td>\n",
       "      <td>1.0</td>\n",
       "    </tr>\n",
       "    <tr>\n",
       "      <th>4</th>\n",
       "      <td>0.0</td>\n",
       "      <td>0.963379</td>\n",
       "      <td>1.0</td>\n",
       "      <td>0.0</td>\n",
       "      <td>0.549349</td>\n",
       "      <td>0.156930</td>\n",
       "      <td>0.666667</td>\n",
       "      <td>1.0</td>\n",
       "    </tr>\n",
       "  </tbody>\n",
       "</table>\n",
       "</div>"
      ],
      "text/plain": [
       "   gender       age  hypertension  heart_disease  avg_glucose_level       bmi  \\\n",
       "0     0.5  0.816895           0.0            1.0           0.801265  0.301260   \n",
       "1     0.0  0.743652           0.0            0.0           0.679023  0.212981   \n",
       "2     0.5  0.975586           0.0            1.0           0.234512  0.254296   \n",
       "3     0.0  0.597168           0.0            0.0           0.536008  0.276060   \n",
       "4     0.0  0.963379           1.0            0.0           0.549349  0.156930   \n",
       "\n",
       "   smoking_status  stroke  \n",
       "0        0.333333     1.0  \n",
       "1        0.666667     1.0  \n",
       "2        0.666667     1.0  \n",
       "3        1.000000     1.0  \n",
       "4        0.666667     1.0  "
      ]
     },
     "execution_count": 17,
     "metadata": {},
     "output_type": "execute_result"
    }
   ],
   "source": [
    "data = data.drop(['id','ever_married', 'Residence_type', 'work_type']   , axis=1)\n",
    "data.head()"
   ]
  },
  {
   "cell_type": "markdown",
   "metadata": {
    "id": "5k-KoLpH5C9R"
   },
   "source": [
    "# Building the DL Model"
   ]
  },
  {
   "cell_type": "markdown",
   "metadata": {
    "id": "uI2VtlafMBeN"
   },
   "source": [
    "**Question 8:** Now it's time to build the actual model, and observe a summary of it."
   ]
  },
  {
   "cell_type": "code",
   "execution_count": 18,
   "metadata": {
    "id": "AZvKqqT65E0W"
   },
   "outputs": [
    {
     "name": "stdout",
     "output_type": "stream",
     "text": [
      "WARNING:tensorflow:From C:\\Users\\firas\\AppData\\Local\\Programs\\Python\\Python311\\Lib\\site-packages\\keras\\src\\losses.py:2976: The name tf.losses.sparse_softmax_cross_entropy is deprecated. Please use tf.compat.v1.losses.sparse_softmax_cross_entropy instead.\n",
      "\n",
      "WARNING:tensorflow:From C:\\Users\\firas\\AppData\\Local\\Programs\\Python\\Python311\\Lib\\site-packages\\keras\\src\\backend.py:873: The name tf.get_default_graph is deprecated. Please use tf.compat.v1.get_default_graph instead.\n",
      "\n",
      "Model: \"sequential\"\n",
      "_________________________________________________________________\n",
      " Layer (type)                Output Shape              Param #   \n",
      "=================================================================\n",
      " dense (Dense)               (None, 10)                80        \n",
      "                                                                 \n",
      " dense_1 (Dense)             (None, 20)                220       \n",
      "                                                                 \n",
      " dense_2 (Dense)             (None, 10)                210       \n",
      "                                                                 \n",
      " dense_3 (Dense)             (None, 1)                 11        \n",
      "                                                                 \n",
      "=================================================================\n",
      "Total params: 521 (2.04 KB)\n",
      "Trainable params: 521 (2.04 KB)\n",
      "Non-trainable params: 0 (0.00 Byte)\n",
      "_________________________________________________________________\n"
     ]
    }
   ],
   "source": [
    "import tensorflow as tf\n",
    "from tensorflow.keras.models import Sequential\n",
    "from tensorflow.keras.layers import Dense\n",
    "\n",
    "\n",
    "model = Sequential()\n",
    "model.add(Dense(10, input_dim=7 , activation='relu'))\n",
    "model.add(Dense(20, activation='relu'))\n",
    "model.add(Dense(10, activation='relu'))\n",
    "model.add(Dense(1, activation='sigmoid'))\n",
    "model.summary()"
   ]
  },
  {
   "cell_type": "markdown",
   "metadata": {
    "id": "AD57fE2n7QP4"
   },
   "source": [
    "### Compiling the model"
   ]
  },
  {
   "cell_type": "markdown",
   "metadata": {
    "id": "seGmh1x1-qH9"
   },
   "source": [
    "**Question 9:**  Now we compile the model. Here we want to measure the accuracy as well as the precision and recall to know better about the performance of our model."
   ]
  },
  {
   "cell_type": "code",
   "execution_count": 19,
   "metadata": {
    "id": "woSsSTEm61_U"
   },
   "outputs": [
    {
     "name": "stdout",
     "output_type": "stream",
     "text": [
      "WARNING:tensorflow:From C:\\Users\\firas\\AppData\\Local\\Programs\\Python\\Python311\\Lib\\site-packages\\keras\\src\\optimizers\\__init__.py:309: The name tf.train.Optimizer is deprecated. Please use tf.compat.v1.train.Optimizer instead.\n",
      "\n"
     ]
    }
   ],
   "source": [
    "model.compile(optimizer='adam',loss='binary_crossentropy',metrics=['accuracy', 'Precision'])"
   ]
  },
  {
   "cell_type": "markdown",
   "metadata": {
    "id": "U5zevRH57X8v"
   },
   "source": [
    "### Fitting the model"
   ]
  },
  {
   "cell_type": "markdown",
   "metadata": {
    "id": "UhaEU26KMUWK"
   },
   "source": [
    "**Question 10:** Split the data and train the model\n",
    "\n",
    "We take the first columns as features and the last column as a label, then we split our dataset between training (70%) and testing (30%)."
   ]
  },
  {
   "cell_type": "code",
   "execution_count": 20,
   "metadata": {
    "id": "rsVOVfn47MLn"
   },
   "outputs": [],
   "source": [
    "from sklearn.model_selection import train_test_split\n",
    "dataset = data.values\n",
    "x = dataset[:,0:7].astype(float)\n",
    "y = dataset[:,7]\n",
    "\n",
    "x_train, x_val, y_train, y_val = train_test_split(x, y, test_size=0.3, stratify=y)"
   ]
  },
  {
   "cell_type": "markdown",
   "metadata": {
    "id": "LVvxbyPyezb3"
   },
   "source": [
    "we fit the model on 80% training data, and validate on the rest. Later we will do the final test on the test data. The training happens for 15 epochs."
   ]
  },
  {
   "cell_type": "code",
   "execution_count": 21,
   "metadata": {
    "id": "KrlvFubpqBeS"
   },
   "outputs": [
    {
     "name": "stdout",
     "output_type": "stream",
     "text": [
      "Epoch 1/15\n",
      "WARNING:tensorflow:From C:\\Users\\firas\\AppData\\Local\\Programs\\Python\\Python311\\Lib\\site-packages\\keras\\src\\utils\\tf_utils.py:492: The name tf.ragged.RaggedTensorValue is deprecated. Please use tf.compat.v1.ragged.RaggedTensorValue instead.\n",
      "\n",
      "WARNING:tensorflow:From C:\\Users\\firas\\AppData\\Local\\Programs\\Python\\Python311\\Lib\\site-packages\\keras\\src\\engine\\base_layer_utils.py:384: The name tf.executing_eagerly_outside_functions is deprecated. Please use tf.compat.v1.executing_eagerly_outside_functions instead.\n",
      "\n",
      "112/112 [==============================] - 3s 9ms/step - loss: 0.4743 - accuracy: 0.8541 - precision: 0.0584 - val_loss: 0.2515 - val_accuracy: 0.9511 - val_precision: 0.0000e+00\n",
      "Epoch 2/15\n",
      "112/112 [==============================] - 0s 4ms/step - loss: 0.2224 - accuracy: 0.9514 - precision: 0.0000e+00 - val_loss: 0.2118 - val_accuracy: 0.9511 - val_precision: 0.0000e+00\n",
      "Epoch 3/15\n",
      "112/112 [==============================] - 0s 4ms/step - loss: 0.1996 - accuracy: 0.9514 - precision: 0.0000e+00 - val_loss: 0.1977 - val_accuracy: 0.9511 - val_precision: 0.0000e+00\n",
      "Epoch 4/15\n",
      "112/112 [==============================] - 0s 4ms/step - loss: 0.1861 - accuracy: 0.9514 - precision: 0.0000e+00 - val_loss: 0.1872 - val_accuracy: 0.9511 - val_precision: 0.0000e+00\n",
      "Epoch 5/15\n",
      "112/112 [==============================] - 1s 5ms/step - loss: 0.1766 - accuracy: 0.9514 - precision: 0.0000e+00 - val_loss: 0.1787 - val_accuracy: 0.9511 - val_precision: 0.0000e+00\n",
      "Epoch 6/15\n",
      "112/112 [==============================] - 1s 5ms/step - loss: 0.1682 - accuracy: 0.9514 - precision: 0.0000e+00 - val_loss: 0.1724 - val_accuracy: 0.9511 - val_precision: 0.0000e+00\n",
      "Epoch 7/15\n",
      "112/112 [==============================] - 1s 5ms/step - loss: 0.1637 - accuracy: 0.9514 - precision: 0.0000e+00 - val_loss: 0.1688 - val_accuracy: 0.9511 - val_precision: 0.0000e+00\n",
      "Epoch 8/15\n",
      "112/112 [==============================] - 0s 4ms/step - loss: 0.1607 - accuracy: 0.9514 - precision: 0.0000e+00 - val_loss: 0.1707 - val_accuracy: 0.9511 - val_precision: 0.0000e+00\n",
      "Epoch 9/15\n",
      "112/112 [==============================] - 1s 5ms/step - loss: 0.1579 - accuracy: 0.9514 - precision: 0.0000e+00 - val_loss: 0.1662 - val_accuracy: 0.9511 - val_precision: 0.0000e+00\n",
      "Epoch 10/15\n",
      "112/112 [==============================] - 1s 5ms/step - loss: 0.1578 - accuracy: 0.9514 - precision: 0.0000e+00 - val_loss: 0.1649 - val_accuracy: 0.9511 - val_precision: 0.0000e+00\n",
      "Epoch 11/15\n",
      "112/112 [==============================] - 1s 5ms/step - loss: 0.1558 - accuracy: 0.9514 - precision: 0.0000e+00 - val_loss: 0.1665 - val_accuracy: 0.9511 - val_precision: 0.0000e+00\n",
      "Epoch 12/15\n",
      "112/112 [==============================] - 0s 4ms/step - loss: 0.1556 - accuracy: 0.9514 - precision: 0.0000e+00 - val_loss: 0.1651 - val_accuracy: 0.9511 - val_precision: 0.0000e+00\n",
      "Epoch 13/15\n",
      "112/112 [==============================] - 0s 4ms/step - loss: 0.1555 - accuracy: 0.9514 - precision: 0.0000e+00 - val_loss: 0.1642 - val_accuracy: 0.9511 - val_precision: 0.0000e+00\n",
      "Epoch 14/15\n",
      "112/112 [==============================] - 1s 4ms/step - loss: 0.1547 - accuracy: 0.9514 - precision: 0.0000e+00 - val_loss: 0.1644 - val_accuracy: 0.9511 - val_precision: 0.0000e+00\n",
      "Epoch 15/15\n",
      "112/112 [==============================] - 0s 4ms/step - loss: 0.1544 - accuracy: 0.9514 - precision: 0.0000e+00 - val_loss: 0.1673 - val_accuracy: 0.9511 - val_precision: 0.0000e+00\n"
     ]
    }
   ],
   "source": [
    "history = model.fit(x_train, y_train, validation_data=(x_val, y_val), epochs=15)"
   ]
  },
  {
   "cell_type": "markdown",
   "metadata": {
    "id": "voqUo00lAqCZ"
   },
   "source": [
    "# Improving DL Models"
   ]
  },
  {
   "cell_type": "markdown",
   "metadata": {
    "id": "Op2Frp44uSiX"
   },
   "source": [
    "**Question 11:** Suggest ways to improve your model"
   ]
  },
  {
   "cell_type": "markdown",
   "metadata": {
    "id": "IImSYWQGBSz6"
   },
   "source": [
    "### Checking For Data Imbalance"
   ]
  },
  {
   "cell_type": "markdown",
   "metadata": {
    "id": "ZHxCONODMkNN"
   },
   "source": [
    "We check for imbalance because we have a poor recall and precision."
   ]
  },
  {
   "cell_type": "code",
   "execution_count": 22,
   "metadata": {
    "id": "1bF6G8c58SOE"
   },
   "outputs": [],
   "source": [
    "#Instead of normalize we normalize"
   ]
  },
  {
   "cell_type": "markdown",
   "metadata": {
    "id": "gzZBB5GMCOld"
   },
   "source": [
    "We have a huge imbalance in the data, this is why we fix it with oversamppling and undersampling.\n",
    "\n",
    "We will oversample this time using the SMOTE() function instead of random oversampling, and this is because SMOTE will generate new data based on the data that we have, so we avoid overfitting."
   ]
  },
  {
   "cell_type": "code",
   "execution_count": 23,
   "metadata": {
    "id": "US4xON4LBX8I"
   },
   "outputs": [
    {
     "data": {
      "text/plain": [
       "(array([3403.,    0.,    0.,    0.,    0.,    0.,    0.,    0.,    0.,\n",
       "        3403.]),\n",
       " array([0. , 0.1, 0.2, 0.3, 0.4, 0.5, 0.6, 0.7, 0.8, 0.9, 1. ]),\n",
       " <BarContainer object of 10 artists>)"
      ]
     },
     "execution_count": 23,
     "metadata": {},
     "output_type": "execute_result"
    },
    {
     "data": {
      "image/png": "[encoded data removed]",
      "text/plain": [
       "<Figure size 640x480 with 1 Axes>"
      ]
     },
     "metadata": {},
     "output_type": "display_data"
    }
   ],
   "source": [
    "from imblearn.over_sampling import SMOTE\n",
    "\n",
    "over = SMOTE()\n",
    "x_new, y_new = over.fit_resample(x_train, y_train)\n",
    "\n",
    "\n",
    "plt.hist([y_new])"
   ]
  },
  {
   "cell_type": "markdown",
   "metadata": {
    "id": "OmfeUhi1ezb9"
   },
   "source": [
    "Split the balanced dataset between 90% (training and validation), 10% testing\n",
    "Then divide the 90% between 80% training and 20% validation"
   ]
  },
  {
   "cell_type": "code",
   "execution_count": 24,
   "metadata": {
    "id": "IxnYFoPZezb-"
   },
   "outputs": [],
   "source": [
    "from sklearn.model_selection import train_test_split\n",
    "\n",
    "\n",
    "x_train_val, x_test, y_train_val, y_test = train_test_split(x_new, y_new, test_size=0.1, stratify=y_new)\n",
    "x_train, x_val, y_train, y_val = train_test_split(x_train_val, y_train_val, test_size=0.2, stratify=y_train_val)"
   ]
  },
  {
   "cell_type": "markdown",
   "metadata": {
    "id": "dgyxF74oezcA"
   },
   "source": [
    "Now we will train the model on the balanced data, and tune it on the validation set"
   ]
  },
  {
   "cell_type": "code",
   "execution_count": 25,
   "metadata": {
    "id": "26YTispLEm9N"
   },
   "outputs": [
    {
     "name": "stdout",
     "output_type": "stream",
     "text": [
      "Epoch 1/15\n",
      "154/154 [==============================] - 1s 4ms/step - loss: 0.5089 - accuracy: 0.7602 - precision: 0.7371 - val_loss: 0.4487 - val_accuracy: 0.7845 - val_precision: 0.7305\n",
      "Epoch 2/15\n",
      "154/154 [==============================] - 1s 3ms/step - loss: 0.4561 - accuracy: 0.7827 - precision: 0.7514 - val_loss: 0.4397 - val_accuracy: 0.7927 - val_precision: 0.7792\n",
      "Epoch 3/15\n",
      "154/154 [==============================] - 1s 3ms/step - loss: 0.4514 - accuracy: 0.7855 - precision: 0.7558 - val_loss: 0.4352 - val_accuracy: 0.7927 - val_precision: 0.7644\n",
      "Epoch 4/15\n",
      "154/154 [==============================] - 1s 4ms/step - loss: 0.4502 - accuracy: 0.7839 - precision: 0.7545 - val_loss: 0.4403 - val_accuracy: 0.7861 - val_precision: 0.7835\n",
      "Epoch 5/15\n",
      "154/154 [==============================] - 1s 4ms/step - loss: 0.4505 - accuracy: 0.7831 - precision: 0.7551 - val_loss: 0.4344 - val_accuracy: 0.7967 - val_precision: 0.7549\n",
      "Epoch 6/15\n",
      "154/154 [==============================] - 1s 4ms/step - loss: 0.4481 - accuracy: 0.7867 - precision: 0.7535 - val_loss: 0.4315 - val_accuracy: 0.7943 - val_precision: 0.7612\n",
      "Epoch 7/15\n",
      "154/154 [==============================] - 1s 4ms/step - loss: 0.4460 - accuracy: 0.7871 - precision: 0.7550 - val_loss: 0.4288 - val_accuracy: 0.7959 - val_precision: 0.7650\n",
      "Epoch 8/15\n",
      "154/154 [==============================] - 1s 4ms/step - loss: 0.4451 - accuracy: 0.7894 - precision: 0.7554 - val_loss: 0.4295 - val_accuracy: 0.7967 - val_precision: 0.7507\n",
      "Epoch 9/15\n",
      "154/154 [==============================] - 1s 4ms/step - loss: 0.4433 - accuracy: 0.7902 - precision: 0.7599 - val_loss: 0.4267 - val_accuracy: 0.7935 - val_precision: 0.7795\n",
      "Epoch 10/15\n",
      "154/154 [==============================] - 1s 4ms/step - loss: 0.4424 - accuracy: 0.7876 - precision: 0.7568 - val_loss: 0.4282 - val_accuracy: 0.7984 - val_precision: 0.7933\n",
      "Epoch 11/15\n",
      "154/154 [==============================] - 1s 4ms/step - loss: 0.4416 - accuracy: 0.7906 - precision: 0.7578 - val_loss: 0.4306 - val_accuracy: 0.7943 - val_precision: 0.7935\n",
      "Epoch 12/15\n",
      "154/154 [==============================] - 1s 4ms/step - loss: 0.4408 - accuracy: 0.7931 - precision: 0.7611 - val_loss: 0.4238 - val_accuracy: 0.8016 - val_precision: 0.7829\n",
      "Epoch 13/15\n",
      "154/154 [==============================] - 1s 5ms/step - loss: 0.4398 - accuracy: 0.7931 - precision: 0.7600 - val_loss: 0.4279 - val_accuracy: 0.7959 - val_precision: 0.7932\n",
      "Epoch 14/15\n",
      "154/154 [==============================] - 1s 4ms/step - loss: 0.4392 - accuracy: 0.7920 - precision: 0.7590 - val_loss: 0.4194 - val_accuracy: 0.8073 - val_precision: 0.7728\n",
      "Epoch 15/15\n",
      "154/154 [==============================] - 1s 5ms/step - loss: 0.4360 - accuracy: 0.7927 - precision: 0.7600 - val_loss: 0.4189 - val_accuracy: 0.8090 - val_precision: 0.7750\n"
     ]
    }
   ],
   "source": [
    "history = model.fit(x_train, y_train, validation_data=(x_val, y_val), epochs=15)"
   ]
  },
  {
   "cell_type": "markdown",
   "metadata": {
    "id": "wAhUAu5JezcC"
   },
   "source": [
    "Evaluate your model on the test set that you kept aside at the beginning."
   ]
  },
  {
   "cell_type": "code",
   "execution_count": 26,
   "metadata": {
    "id": "utTyIgJLezcD"
   },
   "outputs": [
    {
     "name": "stdout",
     "output_type": "stream",
     "text": [
      "22/22 [==============================] - 0s 4ms/step - loss: 0.4154 - accuracy: 0.7988 - precision: 0.7721\n"
     ]
    },
    {
     "data": {
      "text/plain": [
       "[0.41537466645240784, 0.7988252639770508, 0.7721179723739624]"
      ]
     },
     "execution_count": 26,
     "metadata": {},
     "output_type": "execute_result"
    }
   ],
   "source": [
    "model.evaluate(x_test, y_test)"
   ]
  },
  {
   "cell_type": "markdown",
   "metadata": {
    "id": "hhfhpIaWGtz2"
   },
   "source": [
    "We see that the performance gets better when our data became balanced.\n",
    "Now we will try improving our model with other techniques that we learned through the week."
   ]
  },
  {
   "cell_type": "markdown",
   "metadata": {
    "id": "ngJVLbRKG7U_"
   },
   "source": [
    "### Model Design"
   ]
  },
  {
   "cell_type": "markdown",
   "metadata": {
    "id": "sMdcXspCHxIo"
   },
   "source": [
    "We will introduce batch normalization after each layer and then train the model"
   ]
  },
  {
   "cell_type": "code",
   "execution_count": 27,
   "metadata": {
    "id": "yK78-g-hHrmq"
   },
   "outputs": [
    {
     "name": "stdout",
     "output_type": "stream",
     "text": [
      "Model: \"sequential_1\"\n",
      "_________________________________________________________________\n",
      " Layer (type)                Output Shape              Param #   \n",
      "=================================================================\n",
      " dense_4 (Dense)             (None, 32)                256       \n",
      "                                                                 \n",
      " batch_normalization (Batch  (None, 32)                128       \n",
      " Normalization)                                                  \n",
      "                                                                 \n",
      " dense_5 (Dense)             (None, 16)                528       \n",
      "                                                                 \n",
      " batch_normalization_1 (Bat  (None, 16)                64        \n",
      " chNormalization)                                                \n",
      "                                                                 \n",
      " dense_6 (Dense)             (None, 8)                 136       \n",
      "                                                                 \n",
      " batch_normalization_2 (Bat  (None, 8)                 32        \n",
      " chNormalization)                                                \n",
      "                                                                 \n",
      " dense_7 (Dense)             (None, 4)                 36        \n",
      "                                                                 \n",
      " batch_normalization_3 (Bat  (None, 4)                 16        \n",
      " chNormalization)                                                \n",
      "                                                                 \n",
      " dense_8 (Dense)             (None, 2)                 10        \n",
      "                                                                 \n",
      " batch_normalization_4 (Bat  (None, 2)                 8         \n",
      " chNormalization)                                                \n",
      "                                                                 \n",
      " dense_9 (Dense)             (None, 1)                 3         \n",
      "                                                                 \n",
      "=================================================================\n",
      "Total params: 1217 (4.75 KB)\n",
      "Trainable params: 1093 (4.27 KB)\n",
      "Non-trainable params: 124 (496.00 Byte)\n",
      "_________________________________________________________________\n"
     ]
    }
   ],
   "source": [
    "from tensorflow.keras.layers import BatchNormalization\n",
    "model = Sequential()\n",
    "\n",
    "model.add(Dense(32, input_dim=7, activation='relu'))\n",
    "model.add(BatchNormalization())\n",
    "model.add(Dense(16, activation='relu'))\n",
    "model.add(BatchNormalization())\n",
    "model.add(Dense(8, activation='relu'))\n",
    "model.add(BatchNormalization())\n",
    "model.add(Dense(4, activation='relu'))\n",
    "model.add(BatchNormalization())\n",
    "model.add(Dense(2, activation='relu'))\n",
    "model.add(BatchNormalization())\n",
    "model.add(Dense(1, activation='sigmoid'))\n",
    "\n",
    "model.summary()\n"
   ]
  },
  {
   "cell_type": "code",
   "execution_count": 28,
   "metadata": {
    "id": "REDrQVWLJLs5"
   },
   "outputs": [
    {
     "name": "stdout",
     "output_type": "stream",
     "text": [
      "Epoch 1/15\n",
      "154/154 [==============================] - 6s 9ms/step - loss: 0.6549 - accuracy: 0.6402 - precision: 0.6431 - recall: 0.6302 - val_loss: 0.6604 - val_accuracy: 0.6376 - val_precision: 0.7128 - val_recall: 0.4617\n",
      "Epoch 2/15\n",
      "154/154 [==============================] - 1s 6ms/step - loss: 0.5752 - accuracy: 0.7516 - precision: 0.7509 - recall: 0.7531 - val_loss: 0.5575 - val_accuracy: 0.7673 - val_precision: 0.7010 - val_recall: 0.9331\n",
      "Epoch 3/15\n",
      "154/154 [==============================] - 1s 6ms/step - loss: 0.5146 - accuracy: 0.7835 - precision: 0.7579 - recall: 0.8331 - val_loss: 0.4801 - val_accuracy: 0.8000 - val_precision: 0.7614 - val_recall: 0.8744\n",
      "Epoch 4/15\n",
      "154/154 [==============================] - 1s 5ms/step - loss: 0.4784 - accuracy: 0.7857 - precision: 0.7547 - recall: 0.8465 - val_loss: 0.4668 - val_accuracy: 0.7927 - val_precision: 0.7224 - val_recall: 0.9511\n",
      "Epoch 5/15\n",
      "154/154 [==============================] - 1s 5ms/step - loss: 0.4646 - accuracy: 0.7951 - precision: 0.7539 - recall: 0.8763 - val_loss: 0.4259 - val_accuracy: 0.8220 - val_precision: 0.7926 - val_recall: 0.8728\n",
      "Epoch 6/15\n",
      "154/154 [==============================] - 1s 5ms/step - loss: 0.4454 - accuracy: 0.8000 - precision: 0.7644 - recall: 0.8673 - val_loss: 0.4213 - val_accuracy: 0.8106 - val_precision: 0.7710 - val_recall: 0.8842\n",
      "Epoch 7/15\n",
      "154/154 [==============================] - 1s 6ms/step - loss: 0.4334 - accuracy: 0.8037 - precision: 0.7698 - recall: 0.8665 - val_loss: 0.4233 - val_accuracy: 0.8196 - val_precision: 0.8006 - val_recall: 0.8515\n",
      "Epoch 8/15\n",
      "154/154 [==============================] - 1s 5ms/step - loss: 0.4278 - accuracy: 0.8094 - precision: 0.7750 - recall: 0.8718 - val_loss: 0.4143 - val_accuracy: 0.8139 - val_precision: 0.7818 - val_recall: 0.8711\n",
      "Epoch 9/15\n",
      "154/154 [==============================] - 1s 5ms/step - loss: 0.4272 - accuracy: 0.8096 - precision: 0.7755 - recall: 0.8714 - val_loss: 0.3982 - val_accuracy: 0.8261 - val_precision: 0.7817 - val_recall: 0.9054\n",
      "Epoch 10/15\n",
      "154/154 [==============================] - 1s 8ms/step - loss: 0.4191 - accuracy: 0.8133 - precision: 0.7762 - recall: 0.8804 - val_loss: 0.4042 - val_accuracy: 0.8269 - val_precision: 0.7944 - val_recall: 0.8825\n",
      "Epoch 11/15\n",
      "154/154 [==============================] - 1s 6ms/step - loss: 0.4174 - accuracy: 0.8092 - precision: 0.7772 - recall: 0.8669 - val_loss: 0.3936 - val_accuracy: 0.8318 - val_precision: 0.7937 - val_recall: 0.8972\n",
      "Epoch 12/15\n",
      "154/154 [==============================] - 1s 8ms/step - loss: 0.4167 - accuracy: 0.8133 - precision: 0.7812 - recall: 0.8702 - val_loss: 0.3976 - val_accuracy: 0.8302 - val_precision: 0.7864 - val_recall: 0.9070\n",
      "Epoch 13/15\n",
      "154/154 [==============================] - 1s 8ms/step - loss: 0.4067 - accuracy: 0.8200 - precision: 0.7859 - recall: 0.8796 - val_loss: 0.4086 - val_accuracy: 0.8171 - val_precision: 0.8034 - val_recall: 0.8401\n",
      "Epoch 14/15\n",
      "154/154 [==============================] - 1s 5ms/step - loss: 0.4189 - accuracy: 0.8118 - precision: 0.7861 - recall: 0.8567 - val_loss: 0.3927 - val_accuracy: 0.8302 - val_precision: 0.7905 - val_recall: 0.8989\n",
      "Epoch 15/15\n",
      "154/154 [==============================] - 1s 6ms/step - loss: 0.4080 - accuracy: 0.8184 - precision: 0.7861 - recall: 0.8747 - val_loss: 0.3818 - val_accuracy: 0.8310 - val_precision: 0.7859 - val_recall: 0.9103\n"
     ]
    }
   ],
   "source": [
    "model.compile(optimizer='adam', loss='binary_crossentropy', metrics=['accuracy', 'Precision', 'Recall'])\n",
    "\n",
    "history2 = model.fit(x_train, y_train, validation_data=(x_val, y_val), epochs=15)"
   ]
  },
  {
   "cell_type": "code",
   "execution_count": 29,
   "metadata": {
    "id": "eenpPyr_ezcH"
   },
   "outputs": [
    {
     "name": "stdout",
     "output_type": "stream",
     "text": [
      "22/22 [==============================] - 0s 4ms/step - loss: 0.3752 - accuracy: 0.8297 - precision: 0.7759 - recall: 0.9265\n"
     ]
    },
    {
     "data": {
      "text/plain": [
       "[0.37520310282707214,\n",
       " 0.8296622633934021,\n",
       " 0.7758620977401733,\n",
       " 0.9264705777168274]"
      ]
     },
     "execution_count": 29,
     "metadata": {},
     "output_type": "execute_result"
    }
   ],
   "source": [
    "model.evaluate(x_test, y_test)"
   ]
  },
  {
   "cell_type": "markdown",
   "metadata": {
    "id": "hhkSEThVKEdm"
   },
   "source": [
    "We see that we are achieving better metrics with batch normalization."
   ]
  }
 ],
 "metadata": {
  "colab": {
   "collapsed_sections": [
    "d1GOfAgt4M-Q",
    "KICuY0lg5nUD",
    "AD57fE2n7QP4",
    "U5zevRH57X8v",
    "IImSYWQGBSz6",
    "ngJVLbRKG7U_",
    "mXf6cpO_KWTs"
   ],
   "provenance": [],
   "toc_visible": true
  },
  "kernelspec": {
   "display_name": "Python 3 (ipykernel)",
   "language": "python",
   "name": "python3"
  },
  "language_info": {
   "codemirror_mode": {
    "name": "ipython",
    "version": 3
   },
   "file_extension": ".py",
   "mimetype": "text/x-python",
   "name": "python",
   "nbconvert_exporter": "python",
   "pygments_lexer": "ipython3",
   "version": "3.11.2"
  },
  "vscode": {
   "interpreter": {
    "hash": "8c3d4d9970fc5c09c50d9318a9c7fbf4d0159e4b28833276f5678ee22bded273"
   }
  }
 },
 "nbformat": 4,
 "nbformat_minor": 4
}
